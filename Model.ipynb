{
  "nbformat": 4,
  "nbformat_minor": 0,
  "metadata": {
    "colab": {
      "name": "Model.ipynb",
      "provenance": [],
      "collapsed_sections": []
    },
    "kernelspec": {
      "name": "python3",
      "display_name": "Python 3"
    },
    "language_info": {
      "name": "python"
    }
  },
  "cells": [
    {
      "cell_type": "markdown",
      "metadata": {
        "id": "5BX5_dYwqsfi"
      },
      "source": [
        "Importing the Libraries"
      ]
    },
    {
      "cell_type": "code",
      "metadata": {
        "id": "eWC4oSCYqOnA"
      },
      "source": [
        "import pandas as pd\n",
        "from sklearn import svm\n",
        "import numpy as np\n",
        "from sklearn.svm import OneClassSVM\n",
        "from sklearn.model_selection import cross_val_score, train_test_split, GridSearchCV\n",
        "from sklearn import metrics  "
      ],
      "execution_count": 392,
      "outputs": []
    },
    {
      "cell_type": "markdown",
      "metadata": {
        "id": "xxqlkUH8rpaB"
      },
      "source": [
        "Read the Data File"
      ]
    },
    {
      "cell_type": "code",
      "metadata": {
        "id": "VrcHpCGA52eI"
      },
      "source": [
        "read_data = pd.read_csv(\"/content/WIFIDATAcsv1.csv\",nrows=200)"
      ],
      "execution_count": 393,
      "outputs": []
    },
    {
      "cell_type": "markdown",
      "metadata": {
        "id": "YQclWTdGr_bm"
      },
      "source": [
        "List of features in the dataset to be consider"
      ]
    },
    {
      "cell_type": "code",
      "metadata": {
        "id": "MDesBHh1r-Y4"
      },
      "source": [
        "applicable_features = [  \n",
        "                       \"ssid_name\",\n",
        "                       \"phy_type_id\",\n",
        "                       \"capabilities\",\n",
        "                       \"channel_center_freq_khz\",\n",
        "                       \"connection_mode\",\n",
        "                       \"authentication\",\n",
        "                       \"encryption\",\n",
        "                       \"vendor_name\",\n",
        "                       \"bssid\",\n",
        "                       \"mac\",\n",
        "                        \"result\" ]"
      ],
      "execution_count": 394,
      "outputs": []
    },
    {
      "cell_type": "markdown",
      "metadata": {
        "id": "hsn_xlIPsMSk"
      },
      "source": [
        "Filter out the above features in the dataset"
      ]
    },
    {
      "cell_type": "code",
      "metadata": {
        "colab": {
          "base_uri": "https://localhost:8080/"
        },
        "id": "Ym02htZJsR0S",
        "outputId": "373dedce-7f61-4eb4-a77f-9469afb6ad15"
      },
      "source": [
        "read_data = read_data[applicable_features]\n",
        "read_data.info()"
      ],
      "execution_count": 395,
      "outputs": [
        {
          "output_type": "stream",
          "text": [
            "<class 'pandas.core.frame.DataFrame'>\n",
            "RangeIndex: 200 entries, 0 to 199\n",
            "Data columns (total 11 columns):\n",
            " #   Column                   Non-Null Count  Dtype  \n",
            "---  ------                   --------------  -----  \n",
            " 0   ssid_name                200 non-null    object \n",
            " 1   phy_type_id              200 non-null    int64  \n",
            " 2   capabilities             200 non-null    int64  \n",
            " 3   channel_center_freq_khz  200 non-null    int64  \n",
            " 4   connection_mode          200 non-null    object \n",
            " 5   authentication           200 non-null    object \n",
            " 6   encryption               200 non-null    object \n",
            " 7   vendor_name              200 non-null    object \n",
            " 8   bssid                    200 non-null    object \n",
            " 9   mac                      200 non-null    float64\n",
            " 10  result                   200 non-null    int64  \n",
            "dtypes: float64(1), int64(4), object(6)\n",
            "memory usage: 17.3+ KB\n"
          ],
          "name": "stdout"
        }
      ]
    },
    {
      "cell_type": "markdown",
      "metadata": {
        "id": "b9QU2s0IsXlp"
      },
      "source": [
        "Review of Dataset"
      ]
    },
    {
      "cell_type": "code",
      "metadata": {
        "colab": {
          "base_uri": "https://localhost:8080/",
          "height": 374
        },
        "id": "70C8FKjqzIqo",
        "outputId": "28d94adb-dd96-450f-eb0c-5a9ac53b3b74"
      },
      "source": [
        "read_data.head()"
      ],
      "execution_count": 396,
      "outputs": [
        {
          "output_type": "execute_result",
          "data": {
            "text/html": [
              "<div>\n",
              "<style scoped>\n",
              "    .dataframe tbody tr th:only-of-type {\n",
              "        vertical-align: middle;\n",
              "    }\n",
              "\n",
              "    .dataframe tbody tr th {\n",
              "        vertical-align: top;\n",
              "    }\n",
              "\n",
              "    .dataframe thead th {\n",
              "        text-align: right;\n",
              "    }\n",
              "</style>\n",
              "<table border=\"1\" class=\"dataframe\">\n",
              "  <thead>\n",
              "    <tr style=\"text-align: right;\">\n",
              "      <th></th>\n",
              "      <th>ssid_name</th>\n",
              "      <th>phy_type_id</th>\n",
              "      <th>capabilities</th>\n",
              "      <th>channel_center_freq_khz</th>\n",
              "      <th>connection_mode</th>\n",
              "      <th>authentication</th>\n",
              "      <th>encryption</th>\n",
              "      <th>vendor_name</th>\n",
              "      <th>bssid</th>\n",
              "      <th>mac</th>\n",
              "      <th>result</th>\n",
              "    </tr>\n",
              "  </thead>\n",
              "  <tbody>\n",
              "    <tr>\n",
              "      <th>0</th>\n",
              "      <td>Shaun 2.4GHz</td>\n",
              "      <td>8</td>\n",
              "      <td>5393</td>\n",
              "      <td>5785000</td>\n",
              "      <td>auto</td>\n",
              "      <td>WPA2PSK</td>\n",
              "      <td>AES</td>\n",
              "      <td>Unknown</td>\n",
              "      <td>70037E3BE342</td>\n",
              "      <td>7.350000e+13</td>\n",
              "      <td>1</td>\n",
              "    </tr>\n",
              "    <tr>\n",
              "      <th>1</th>\n",
              "      <td>CB</td>\n",
              "      <td>7</td>\n",
              "      <td>5425</td>\n",
              "      <td>2462000</td>\n",
              "      <td>auto</td>\n",
              "      <td>WPA2</td>\n",
              "      <td>AES</td>\n",
              "      <td>Officially Xerox, but 0:0:0:0:0:0 is more common</td>\n",
              "      <td>889E6846D879</td>\n",
              "      <td>1.340000e+14</td>\n",
              "      <td>1</td>\n",
              "    </tr>\n",
              "    <tr>\n",
              "      <th>2</th>\n",
              "      <td>SHAW-5C0570</td>\n",
              "      <td>7</td>\n",
              "      <td>3121</td>\n",
              "      <td>2462000</td>\n",
              "      <td>manual</td>\n",
              "      <td>open</td>\n",
              "      <td>none</td>\n",
              "      <td>XEROX CORPORATION</td>\n",
              "      <td>D8B6B72A8103</td>\n",
              "      <td>3.850000e+12</td>\n",
              "      <td>1</td>\n",
              "    </tr>\n",
              "    <tr>\n",
              "      <th>3</th>\n",
              "      <td>Madden Family</td>\n",
              "      <td>7</td>\n",
              "      <td>1041</td>\n",
              "      <td>2412000</td>\n",
              "      <td>auto</td>\n",
              "      <td>WPA2PSK</td>\n",
              "      <td>AES</td>\n",
              "      <td>OMRON TATEISI ELECTRONICS CO.</td>\n",
              "      <td>E4186BBE1136</td>\n",
              "      <td>5.940000e+13</td>\n",
              "      <td>1</td>\n",
              "    </tr>\n",
              "    <tr>\n",
              "      <th>4</th>\n",
              "      <td>Weeder 95</td>\n",
              "      <td>7</td>\n",
              "      <td>5425</td>\n",
              "      <td>2462000</td>\n",
              "      <td>auto</td>\n",
              "      <td>open</td>\n",
              "      <td>none</td>\n",
              "      <td>MATRIX CORPORATION</td>\n",
              "      <td>1033BFF55C6F</td>\n",
              "      <td>1.220000e+14</td>\n",
              "      <td>1</td>\n",
              "    </tr>\n",
              "  </tbody>\n",
              "</table>\n",
              "</div>"
            ],
            "text/plain": [
              "       ssid_name  phy_type_id  capabilities  ...         bssid           mac result\n",
              "0   Shaun 2.4GHz            8          5393  ...  70037E3BE342  7.350000e+13      1\n",
              "1             CB            7          5425  ...  889E6846D879  1.340000e+14      1\n",
              "2    SHAW-5C0570            7          3121  ...  D8B6B72A8103  3.850000e+12      1\n",
              "3  Madden Family            7          1041  ...  E4186BBE1136  5.940000e+13      1\n",
              "4      Weeder 95            7          5425  ...  1033BFF55C6F  1.220000e+14      1\n",
              "\n",
              "[5 rows x 11 columns]"
            ]
          },
          "metadata": {
            "tags": []
          },
          "execution_count": 396
        }
      ]
    },
    {
      "cell_type": "markdown",
      "metadata": {
        "id": "aWMiiABhoLXn"
      },
      "source": [
        "Feature hashing is used to reduce the dimensionality and handle sparsity of bit vectors.This will work per single Series, column name will be assumed to be a Pandas index. It also replaces blank strings with nan, and floats everything."
      ]
    },
    {
      "cell_type": "code",
      "metadata": {
        "colab": {
          "base_uri": "https://localhost:8080/"
        },
        "id": "W50aHLFytwIP",
        "outputId": "d73d84eb-ac97-4eba-c9eb-d3b4a57f8b71"
      },
      "source": [
        "data = pd.DataFrame(read_data['authentication'])\n",
        "\n",
        "def hash_col(df, col, N):\n",
        "    cols = [col + \"_\" + str(i) for i in range(N)]\n",
        "    def xform(x): tmp = [0 for i in range(N)]; tmp[hash(x) % N] = 1; return pd.Series(tmp,index=cols)\n",
        "    df[cols] = df[col].apply(xform)\n",
        "    return df.drop(col,axis=1)\n",
        "\n",
        "print(hash_col(data, 'authentication',8))\n",
        "read_data = pd.concat([read_data,data],axis=1)\n",
        "print(read_data)\n",
        "print(read_data.info())"
      ],
      "execution_count": 397,
      "outputs": [
        {
          "output_type": "stream",
          "text": [
            "     authentication_0  authentication_1  ...  authentication_6  authentication_7\n",
            "0                   0                 0  ...                 0                 1\n",
            "1                   0                 0  ...                 0                 0\n",
            "2                   0                 0  ...                 0                 0\n",
            "3                   0                 0  ...                 0                 1\n",
            "4                   0                 0  ...                 0                 0\n",
            "..                ...               ...  ...               ...               ...\n",
            "195                 0                 0  ...                 0                 1\n",
            "196                 0                 0  ...                 0                 0\n",
            "197                 0                 0  ...                 0                 0\n",
            "198                 0                 0  ...                 0                 1\n",
            "199                 0                 0  ...                 0                 1\n",
            "\n",
            "[200 rows x 8 columns]\n",
            "         ssid_name  phy_type_id  ...  authentication_6  authentication_7\n",
            "0     Shaun 2.4GHz            8  ...                 0                 1\n",
            "1               CB            7  ...                 0                 0\n",
            "2      SHAW-5C0570            7  ...                 0                 0\n",
            "3    Madden Family            7  ...                 0                 1\n",
            "4        Weeder 95            7  ...                 0                 0\n",
            "..             ...          ...  ...               ...               ...\n",
            "195   Alldrunkards            7  ...                 0                 1\n",
            "196        No ssid            7  ...                 0                 0\n",
            "197   Shaun 2.4GHz            7  ...                 0                 0\n",
            "198             CB            7  ...                 0                 1\n",
            "199             CB            7  ...                 0                 1\n",
            "\n",
            "[200 rows x 20 columns]\n",
            "<class 'pandas.core.frame.DataFrame'>\n",
            "RangeIndex: 200 entries, 0 to 199\n",
            "Data columns (total 20 columns):\n",
            " #   Column                   Non-Null Count  Dtype  \n",
            "---  ------                   --------------  -----  \n",
            " 0   ssid_name                200 non-null    object \n",
            " 1   phy_type_id              200 non-null    int64  \n",
            " 2   capabilities             200 non-null    int64  \n",
            " 3   channel_center_freq_khz  200 non-null    int64  \n",
            " 4   connection_mode          200 non-null    object \n",
            " 5   authentication           200 non-null    object \n",
            " 6   encryption               200 non-null    object \n",
            " 7   vendor_name              200 non-null    object \n",
            " 8   bssid                    200 non-null    object \n",
            " 9   mac                      200 non-null    float64\n",
            " 10  result                   200 non-null    int64  \n",
            " 11  authentication           200 non-null    object \n",
            " 12  authentication_0         200 non-null    int64  \n",
            " 13  authentication_1         200 non-null    int64  \n",
            " 14  authentication_2         200 non-null    int64  \n",
            " 15  authentication_3         200 non-null    int64  \n",
            " 16  authentication_4         200 non-null    int64  \n",
            " 17  authentication_5         200 non-null    int64  \n",
            " 18  authentication_6         200 non-null    int64  \n",
            " 19  authentication_7         200 non-null    int64  \n",
            "dtypes: float64(1), int64(12), object(7)\n",
            "memory usage: 31.4+ KB\n",
            "None\n"
          ],
          "name": "stdout"
        }
      ]
    },
    {
      "cell_type": "code",
      "metadata": {
        "colab": {
          "base_uri": "https://localhost:8080/"
        },
        "id": "ByEt5RtHo4eo",
        "outputId": "9c5bb3c3-da81-4dc6-f499-dffe0b77150f"
      },
      "source": [
        "data1 = pd.DataFrame(read_data['encryption'])\n",
        "\n",
        "def hash_col(df, col, N):\n",
        "    cols = [col + \"_\" + str(i) for i in range(N)]\n",
        "    def xform(x): tmp = [0 for i in range(N)]; tmp[hash(x) % N] = 1; return pd.Series(tmp,index=cols)\n",
        "    df[cols] = df[col].apply(xform)\n",
        "    return df.drop(col,axis=1)\n",
        "\n",
        "print(hash_col(data1, 'encryption',5))\n",
        "read_data = pd.concat([read_data,data1],axis=1)"
      ],
      "execution_count": 398,
      "outputs": [
        {
          "output_type": "stream",
          "text": [
            "     encryption_0  encryption_1  encryption_2  encryption_3  encryption_4\n",
            "0               0             0             0             1             0\n",
            "1               0             0             0             1             0\n",
            "2               0             0             0             1             0\n",
            "3               0             0             0             1             0\n",
            "4               0             0             0             1             0\n",
            "..            ...           ...           ...           ...           ...\n",
            "195             0             0             0             1             0\n",
            "196             0             0             0             1             0\n",
            "197             0             0             0             1             0\n",
            "198             0             0             0             1             0\n",
            "199             0             0             0             1             0\n",
            "\n",
            "[200 rows x 5 columns]\n"
          ],
          "name": "stdout"
        }
      ]
    },
    {
      "cell_type": "code",
      "metadata": {
        "colab": {
          "base_uri": "https://localhost:8080/"
        },
        "id": "2Xp-D0j9sl79",
        "outputId": "1b50b36d-5ecb-49c0-c57e-a546a79308d6"
      },
      "source": [
        "data2 = pd.DataFrame(read_data['connection_mode'])\n",
        "\n",
        "def hash_col(df, col, N):\n",
        "    cols = [col + \"_\" + str(i) for i in range(N)]\n",
        "    def xform(x): tmp = [0 for i in range(N)]; tmp[hash(x) % N] = 1; return pd.Series(tmp,index=cols)\n",
        "    df[cols] = df[col].apply(xform)\n",
        "    return df.drop(col,axis=1)\n",
        "\n",
        "print(hash_col(data2, 'connection_mode',8))\n",
        "read_data = pd.concat([read_data,data2],axis=1)"
      ],
      "execution_count": 399,
      "outputs": [
        {
          "output_type": "stream",
          "text": [
            "     connection_mode_0  connection_mode_1  ...  connection_mode_6  connection_mode_7\n",
            "0                    0                  0  ...                  0                  0\n",
            "1                    0                  0  ...                  0                  0\n",
            "2                    0                  0  ...                  0                  0\n",
            "3                    0                  0  ...                  0                  0\n",
            "4                    0                  0  ...                  0                  0\n",
            "..                 ...                ...  ...                ...                ...\n",
            "195                  0                  0  ...                  0                  0\n",
            "196                  0                  0  ...                  0                  0\n",
            "197                  0                  0  ...                  0                  0\n",
            "198                  0                  0  ...                  0                  0\n",
            "199                  0                  0  ...                  0                  0\n",
            "\n",
            "[200 rows x 8 columns]\n"
          ],
          "name": "stdout"
        }
      ]
    },
    {
      "cell_type": "markdown",
      "metadata": {
        "id": "64Bm_4Lvoa1G"
      },
      "source": [
        "Specifying the target data to detect outliers."
      ]
    },
    {
      "cell_type": "code",
      "metadata": {
        "id": "W_A02WHsyuFv",
        "colab": {
          "base_uri": "https://localhost:8080/"
        },
        "outputId": "ee113f0f-4b80-47d6-ed78-22b14946de0f"
      },
      "source": [
        "target=read_data['result']\n",
        "outliers = target[target == 0]  \n",
        "print(\"outliers.shape\", outliers.shape)  \n",
        "print(\"outlier fraction\", outliers.shape[0]/target.shape[0])\n",
        "\n",
        "read_data.info()"
      ],
      "execution_count": 400,
      "outputs": [
        {
          "output_type": "stream",
          "text": [
            "outliers.shape (77,)\n",
            "outlier fraction 0.385\n",
            "<class 'pandas.core.frame.DataFrame'>\n",
            "RangeIndex: 200 entries, 0 to 199\n",
            "Data columns (total 35 columns):\n",
            " #   Column                   Non-Null Count  Dtype  \n",
            "---  ------                   --------------  -----  \n",
            " 0   ssid_name                200 non-null    object \n",
            " 1   phy_type_id              200 non-null    int64  \n",
            " 2   capabilities             200 non-null    int64  \n",
            " 3   channel_center_freq_khz  200 non-null    int64  \n",
            " 4   connection_mode          200 non-null    object \n",
            " 5   authentication           200 non-null    object \n",
            " 6   encryption               200 non-null    object \n",
            " 7   vendor_name              200 non-null    object \n",
            " 8   bssid                    200 non-null    object \n",
            " 9   mac                      200 non-null    float64\n",
            " 10  result                   200 non-null    int64  \n",
            " 11  authentication           200 non-null    object \n",
            " 12  authentication_0         200 non-null    int64  \n",
            " 13  authentication_1         200 non-null    int64  \n",
            " 14  authentication_2         200 non-null    int64  \n",
            " 15  authentication_3         200 non-null    int64  \n",
            " 16  authentication_4         200 non-null    int64  \n",
            " 17  authentication_5         200 non-null    int64  \n",
            " 18  authentication_6         200 non-null    int64  \n",
            " 19  authentication_7         200 non-null    int64  \n",
            " 20  encryption               200 non-null    object \n",
            " 21  encryption_0             200 non-null    int64  \n",
            " 22  encryption_1             200 non-null    int64  \n",
            " 23  encryption_2             200 non-null    int64  \n",
            " 24  encryption_3             200 non-null    int64  \n",
            " 25  encryption_4             200 non-null    int64  \n",
            " 26  connection_mode          200 non-null    object \n",
            " 27  connection_mode_0        200 non-null    int64  \n",
            " 28  connection_mode_1        200 non-null    int64  \n",
            " 29  connection_mode_2        200 non-null    int64  \n",
            " 30  connection_mode_3        200 non-null    int64  \n",
            " 31  connection_mode_4        200 non-null    int64  \n",
            " 32  connection_mode_5        200 non-null    int64  \n",
            " 33  connection_mode_6        200 non-null    int64  \n",
            " 34  connection_mode_7        200 non-null    int64  \n",
            "dtypes: float64(1), int64(25), object(9)\n",
            "memory usage: 54.8+ KB\n"
          ],
          "name": "stdout"
        }
      ]
    },
    {
      "cell_type": "markdown",
      "metadata": {
        "id": "wiXPteWcol-k"
      },
      "source": [
        "Adding the Feature hashing vectors to the features."
      ]
    },
    {
      "cell_type": "code",
      "metadata": {
        "id": "oMwJ3kIWzKJS",
        "colab": {
          "base_uri": "https://localhost:8080/"
        },
        "outputId": "cd1ce228-f56b-48ef-ba7b-3ff758672eec"
      },
      "source": [
        "read_data.info()\n",
        "applicable_features1 = [  \n",
        "                      \n",
        "                       \"authentication_0\",\n",
        "                       \"authentication_1\",\n",
        "                       \"authentication_3\",\n",
        "                       \"authentication_3\",\n",
        "                       \"authentication_4\",\n",
        "                      \"authentication_5\",\n",
        "                      \"authentication_6\",\n",
        "                       \"authentication_7\",\n",
        "                       \"encryption_0\",\n",
        "                        \"encryption_1\",\n",
        "                        \"encryption_2\",\n",
        "                        \"encryption_3\",\n",
        "                        \"encryption_4\",\n",
        "                        \"connection_mode_0\",\n",
        "                        \"connection_mode_1\",\n",
        "                        \"connection_mode_2\",\n",
        "                       \"phy_type_id\",\n",
        "                       \"capabilities\",\n",
        "                       \"channel_center_freq_khz\",\n",
        "                       \"mac\",\n",
        "                        \"result\" ]\n",
        "#Normalize the data for effieciency\n",
        "read_data['channel_center_freq_khz'] = read_data['channel_center_freq_khz'].astype(float)\n",
        "read_data['mac'] = read_data['mac'].astype(float)\n",
        "read_data['phy_type_id'] = read_data['phy_type_id'].astype(float)\n",
        "read_data['capabilities'] = read_data['capabilities'].astype(float)\n",
        "read_data['result'] = read_data['result'].astype(float)\n",
        "read_data = read_data[applicable_features1]\n",
        "read_data.info()\n",
        "\n",
        "#Drop the target feature\n",
        "read_data.drop([\"result\"], axis=1, inplace=True)\n",
        "read_data.shape  \n",
        "print(read_data)"
      ],
      "execution_count": 401,
      "outputs": [
        {
          "output_type": "stream",
          "text": [
            "<class 'pandas.core.frame.DataFrame'>\n",
            "RangeIndex: 200 entries, 0 to 199\n",
            "Data columns (total 35 columns):\n",
            " #   Column                   Non-Null Count  Dtype  \n",
            "---  ------                   --------------  -----  \n",
            " 0   ssid_name                200 non-null    object \n",
            " 1   phy_type_id              200 non-null    int64  \n",
            " 2   capabilities             200 non-null    int64  \n",
            " 3   channel_center_freq_khz  200 non-null    int64  \n",
            " 4   connection_mode          200 non-null    object \n",
            " 5   authentication           200 non-null    object \n",
            " 6   encryption               200 non-null    object \n",
            " 7   vendor_name              200 non-null    object \n",
            " 8   bssid                    200 non-null    object \n",
            " 9   mac                      200 non-null    float64\n",
            " 10  result                   200 non-null    int64  \n",
            " 11  authentication           200 non-null    object \n",
            " 12  authentication_0         200 non-null    int64  \n",
            " 13  authentication_1         200 non-null    int64  \n",
            " 14  authentication_2         200 non-null    int64  \n",
            " 15  authentication_3         200 non-null    int64  \n",
            " 16  authentication_4         200 non-null    int64  \n",
            " 17  authentication_5         200 non-null    int64  \n",
            " 18  authentication_6         200 non-null    int64  \n",
            " 19  authentication_7         200 non-null    int64  \n",
            " 20  encryption               200 non-null    object \n",
            " 21  encryption_0             200 non-null    int64  \n",
            " 22  encryption_1             200 non-null    int64  \n",
            " 23  encryption_2             200 non-null    int64  \n",
            " 24  encryption_3             200 non-null    int64  \n",
            " 25  encryption_4             200 non-null    int64  \n",
            " 26  connection_mode          200 non-null    object \n",
            " 27  connection_mode_0        200 non-null    int64  \n",
            " 28  connection_mode_1        200 non-null    int64  \n",
            " 29  connection_mode_2        200 non-null    int64  \n",
            " 30  connection_mode_3        200 non-null    int64  \n",
            " 31  connection_mode_4        200 non-null    int64  \n",
            " 32  connection_mode_5        200 non-null    int64  \n",
            " 33  connection_mode_6        200 non-null    int64  \n",
            " 34  connection_mode_7        200 non-null    int64  \n",
            "dtypes: float64(1), int64(25), object(9)\n",
            "memory usage: 54.8+ KB\n",
            "<class 'pandas.core.frame.DataFrame'>\n",
            "RangeIndex: 200 entries, 0 to 199\n",
            "Data columns (total 21 columns):\n",
            " #   Column                   Non-Null Count  Dtype  \n",
            "---  ------                   --------------  -----  \n",
            " 0   authentication_0         200 non-null    int64  \n",
            " 1   authentication_1         200 non-null    int64  \n",
            " 2   authentication_3         200 non-null    int64  \n",
            " 3   authentication_3         200 non-null    int64  \n",
            " 4   authentication_4         200 non-null    int64  \n",
            " 5   authentication_5         200 non-null    int64  \n",
            " 6   authentication_6         200 non-null    int64  \n",
            " 7   authentication_7         200 non-null    int64  \n",
            " 8   encryption_0             200 non-null    int64  \n",
            " 9   encryption_1             200 non-null    int64  \n",
            " 10  encryption_2             200 non-null    int64  \n",
            " 11  encryption_3             200 non-null    int64  \n",
            " 12  encryption_4             200 non-null    int64  \n",
            " 13  connection_mode_0        200 non-null    int64  \n",
            " 14  connection_mode_1        200 non-null    int64  \n",
            " 15  connection_mode_2        200 non-null    int64  \n",
            " 16  phy_type_id              200 non-null    float64\n",
            " 17  capabilities             200 non-null    float64\n",
            " 18  channel_center_freq_khz  200 non-null    float64\n",
            " 19  mac                      200 non-null    float64\n",
            " 20  result                   200 non-null    float64\n",
            "dtypes: float64(5), int64(16)\n",
            "memory usage: 32.9 KB\n",
            "     authentication_0  authentication_1  ...  channel_center_freq_khz           mac\n",
            "0                   0                 0  ...                5785000.0  7.350000e+13\n",
            "1                   0                 0  ...                2462000.0  1.340000e+14\n",
            "2                   0                 0  ...                2462000.0  3.850000e+12\n",
            "3                   0                 0  ...                2412000.0  5.940000e+13\n",
            "4                   0                 0  ...                2462000.0  1.220000e+14\n",
            "..                ...               ...  ...                      ...           ...\n",
            "195                 0                 0  ...                2412000.0  1.340000e+14\n",
            "196                 0                 0  ...                2412000.0  3.850000e+12\n",
            "197                 0                 0  ...                2462000.0  5.940000e+13\n",
            "198                 0                 0  ...                2462000.0  1.220000e+14\n",
            "199                 0                 0  ...                2462000.0  1.220000e+14\n",
            "\n",
            "[200 rows x 20 columns]\n"
          ],
          "name": "stdout"
        }
      ]
    },
    {
      "cell_type": "markdown",
      "metadata": {
        "id": "1aAcRIOEr1Cp"
      },
      "source": [
        "One Class Classification Model"
      ]
    },
    {
      "cell_type": "code",
      "metadata": {
        "colab": {
          "base_uri": "https://localhost:8080/"
        },
        "id": "MO3gdnR_rkrV",
        "outputId": "1d05a10b-9a83-4cb2-c59d-6a9b594dfe92"
      },
      "source": [
        "#Split the training and test data using the train_test_split function\n",
        "train_data, test_data, train_target, test_target = train_test_split(read_data, target, train_size = 0.8)  \n",
        "train_data.shape  \n",
        "print(test_data)\n",
        "\n",
        "# set nu (which should be the proportion of outliers in our dataset)\n",
        "nu = outliers.shape[0] / target.shape[0]  \n",
        "print(\"The calculated values of nu is:\", nu)\n",
        "\n",
        "#Run the model for training\n",
        "model = svm.OneClassSVM(nu=nu, kernel='rbf', gamma=0.00005)  \n",
        "model.fit(train_data)  \n",
        "\n",
        "#Predict the Values\n",
        "values_preds = model.predict(train_data)  \n",
        "values_targs = train_target\n",
        "\n",
        "print(\"Training DataSET accuracy: \", 100 *  metrics.accuracy_score(values_targs, values_preds))\n",
        "values_preds = model.predict(test_data)\n",
        "print(values_preds)\n",
        "#Reviewing the Test Target Data\n",
        "print(test_target)\n",
        "values_targs = test_target\n",
        "print(\"Test DataSet Accuracy: \", 100 * metrics.accuracy_score(values_targs, values_preds))\n",
        "\n",
        "#Store the output in the file\n",
        "outputfile = 'one_class_svm_2.model'\n",
        "from sklearn.externals import joblib  \n",
        "joblib.dump(model, outputfile, compress=9) "
      ],
      "execution_count": 402,
      "outputs": [
        {
          "output_type": "stream",
          "text": [
            "     authentication_0  authentication_1  ...  channel_center_freq_khz           mac\n",
            "26                  0                 0  ...                2462000.0  2.040000e+12\n",
            "121                 1                 0  ...                2462000.0  2.020000e+14\n",
            "45                  0                 0  ...                2462000.0  1.010000e+14\n",
            "53                  0                 0  ...                2600000.0  1.610000e+14\n",
            "149                 0                 0  ...                2412000.0  1.220000e+14\n",
            "154                 0                 0  ...                2462000.0  1.210000e+14\n",
            "173                 0                 0  ...                2412000.0  2.730000e+14\n",
            "140                 0                 0  ...                2462000.0  1.260000e+14\n",
            "58                  0                 0  ...                2600000.0  1.480000e+14\n",
            "193                 0                 0  ...                2437000.0  1.500000e+13\n",
            "123                 0                 0  ...                2437000.0  2.470000e+14\n",
            "114                 0                 0  ...                2437000.0  1.180000e+14\n",
            "2                   0                 0  ...                2462000.0  3.850000e+12\n",
            "10                  0                 0  ...                2412000.0  2.730000e+14\n",
            "20                  0                 0  ...                2412000.0  2.730000e+14\n",
            "18                  0                 0  ...                2437000.0  1.280000e+13\n",
            "186                 0                 0  ...                2437000.0  2.730000e+14\n",
            "14                  0                 0  ...                2452000.0  2.470000e+14\n",
            "159                 0                 0  ...                2437000.0  2.470000e+14\n",
            "116                 0                 0  ...                2412000.0  1.320000e+14\n",
            "101                 0                 0  ...                2600000.0  1.430000e+14\n",
            "50                  0                 0  ...                2462000.0  4.480000e+13\n",
            "107                 0                 0  ...                2600000.0  9.410000e+13\n",
            "67                  0                 0  ...                2600000.0  1.670000e+13\n",
            "87                  0                 0  ...                2600000.0  5.710000e+13\n",
            "191                 0                 0  ...                2462000.0  2.550000e+14\n",
            "71                  0                 0  ...                2600000.0  9.410000e+13\n",
            "40                  0                 0  ...                2462000.0  3.090000e+13\n",
            "68                  0                 0  ...                2600000.0  2.800000e+14\n",
            "77                  0                 0  ...                2600000.0  6.250000e+13\n",
            "88                  0                 0  ...                2600000.0  6.690000e+12\n",
            "189                 0                 0  ...                2412000.0  1.260000e+14\n",
            "44                  0                 0  ...                5785000.0  2.580000e+14\n",
            "93                  0                 0  ...                2600000.0  9.410000e+13\n",
            "183                 0                 0  ...                2462000.0  1.320000e+14\n",
            "43                  0                 0  ...                2412000.0  2.710000e+13\n",
            "96                  0                 0  ...                2600000.0  1.670000e+13\n",
            "160                 0                 0  ...                2412000.0  2.550000e+14\n",
            "0                   0                 0  ...                5785000.0  7.350000e+13\n",
            "83                  0                 0  ...                2600000.0  1.160000e+14\n",
            "\n",
            "[40 rows x 20 columns]\n",
            "The calculated values of nu is: 0.385\n",
            "Training DataSET accuracy:  16.875\n",
            "[-1 -1 -1 -1 -1 -1 -1  1 -1 -1 -1 -1 -1 -1 -1 -1 -1 -1 -1  1 -1 -1 -1 -1\n",
            " -1 -1 -1 -1 -1 -1 -1 -1 -1 -1 -1 -1 -1 -1  1 -1]\n",
            "26     0\n",
            "121    1\n",
            "45     1\n",
            "53     0\n",
            "149    1\n",
            "154    1\n",
            "173    1\n",
            "140    1\n",
            "58     0\n",
            "193    1\n",
            "123    1\n",
            "114    1\n",
            "2      1\n",
            "10     1\n",
            "20     0\n",
            "18     0\n",
            "186    1\n",
            "14     1\n",
            "159    1\n",
            "116    1\n",
            "101    0\n",
            "50     1\n",
            "107    0\n",
            "67     0\n",
            "87     0\n",
            "191    1\n",
            "71     0\n",
            "40     1\n",
            "68     0\n",
            "77     0\n",
            "88     0\n",
            "189    1\n",
            "44     1\n",
            "93     0\n",
            "183    1\n",
            "43     1\n",
            "96     0\n",
            "160    1\n",
            "0      1\n",
            "83     0\n",
            "Name: result, dtype: int64\n",
            "Test DataSet Accuracy:  7.5\n"
          ],
          "name": "stdout"
        },
        {
          "output_type": "execute_result",
          "data": {
            "text/plain": [
              "['one_class_svm_2.model']"
            ]
          },
          "metadata": {
            "tags": []
          },
          "execution_count": 402
        }
      ]
    },
    {
      "cell_type": "code",
      "metadata": {
        "id": "WYuekkEx8Ih-"
      },
      "source": [
        ""
      ],
      "execution_count": 402,
      "outputs": []
    }
  ]
}